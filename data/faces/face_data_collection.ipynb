{
 "cells": [
  {
   "cell_type": "markdown",
   "metadata": {},
   "source": [
    "# Face Data Collection"
   ]
  },
  {
   "cell_type": "markdown",
   "metadata": {},
   "source": [
    "### Imports"
   ]
  },
  {
   "cell_type": "code",
   "execution_count": 1,
   "metadata": {},
   "outputs": [],
   "source": [
    "import pandas as pd\n",
    "import yfinance as yf\n",
    "import os\n",
    "import numpy as np\n",
    "import pickle\n",
    "import face_recognition"
   ]
  },
  {
   "cell_type": "markdown",
   "metadata": {},
   "source": [
    "### Constants"
   ]
  },
  {
   "cell_type": "code",
   "execution_count": 50,
   "metadata": {
    "collapsed": true
   },
   "outputs": [],
   "source": [
    "# S&P500 Data\n",
    "ALL_NAMES_CSV = os.path.join(os.getcwd(), 'lfw-dataset/lfw_allnames.csv')\n",
    "IMAGE_BASE_DIR = os.path.join(os.getcwd(), 'lfw-dataset/lfw-deepfunneled/lfw-deepfunneled/')\n",
    "FACE_DATA_CSV = os.path.join(os.getcwd(), 'face_data.csv')"
   ]
  },
  {
   "cell_type": "code",
   "execution_count": 3,
   "metadata": {
    "collapsed": true
   },
   "outputs": [],
   "source": [
    "def filter_out_people(min_images=5):\n",
    "    df = pd.read_csv(ALL_NAMES_CSV)\n",
    "    df = df[df['images'] >= min_images]\n",
    "    return df"
   ]
  },
  {
   "cell_type": "code",
   "execution_count": 4,
   "metadata": {},
   "outputs": [],
   "source": [
    "people_names_df = filter_out_people(5)"
   ]
  },
  {
   "cell_type": "code",
   "execution_count": 5,
   "metadata": {},
   "outputs": [
    {
     "data": {
      "text/plain": [
       "(423, 2)"
      ]
     },
     "execution_count": 5,
     "metadata": {},
     "output_type": "execute_result"
    }
   ],
   "source": [
    "people_names_df.shape"
   ]
  },
  {
   "cell_type": "code",
   "execution_count": 6,
   "metadata": {},
   "outputs": [
    {
     "data": {
      "text/plain": [
       "5985"
      ]
     },
     "execution_count": 6,
     "metadata": {},
     "output_type": "execute_result"
    }
   ],
   "source": [
    "people_names_df['images'].sum()"
   ]
  },
  {
   "cell_type": "code",
   "execution_count": 16,
   "metadata": {},
   "outputs": [],
   "source": [
    "def collect_data_paths(people_names_df):\n",
    "    image_path_df = people_names_df.copy().reindex()\n",
    "    filepaths_list = []\n",
    "    for index, row in people_names_df.iterrows():\n",
    "        filenames = [\"{}_{:04d}.jpg\".format(row['name'], idx+1) for idx in range(int(row['images']))]\n",
    "        filepaths = [os.path.join(IMAGE_BASE_DIR, row['name'], filename) for filename in filenames]\n",
    "        filepaths_list.append(filepaths)\n",
    "    \n",
    "    image_path_df['file_path'] = filepaths_list\n",
    "    image_path_df = image_path_df.explode('file_path')\n",
    "    return image_path_df[['name', 'file_path']].reset_index(drop=True)"
   ]
  },
  {
   "cell_type": "code",
   "execution_count": 17,
   "metadata": {},
   "outputs": [],
   "source": [
    "image_path_df = collect_data_paths(people_names_df)"
   ]
  },
  {
   "cell_type": "code",
   "execution_count": 28,
   "metadata": {},
   "outputs": [
    {
     "data": {
      "text/html": [
       "<div>\n",
       "<style scoped>\n",
       "    .dataframe tbody tr th:only-of-type {\n",
       "        vertical-align: middle;\n",
       "    }\n",
       "\n",
       "    .dataframe tbody tr th {\n",
       "        vertical-align: top;\n",
       "    }\n",
       "\n",
       "    .dataframe thead th {\n",
       "        text-align: right;\n",
       "    }\n",
       "</style>\n",
       "<table border=\"1\" class=\"dataframe\">\n",
       "  <thead>\n",
       "    <tr style=\"text-align: right;\">\n",
       "      <th></th>\n",
       "      <th>name</th>\n",
       "      <th>file_path</th>\n",
       "    </tr>\n",
       "  </thead>\n",
       "  <tbody>\n",
       "    <tr>\n",
       "      <th>0</th>\n",
       "      <td>Abdullah_Gul</td>\n",
       "      <td>/Users/david/ColumbiaCS/AA/w4995-project1/data...</td>\n",
       "    </tr>\n",
       "    <tr>\n",
       "      <th>1</th>\n",
       "      <td>Abdullah_Gul</td>\n",
       "      <td>/Users/david/ColumbiaCS/AA/w4995-project1/data...</td>\n",
       "    </tr>\n",
       "    <tr>\n",
       "      <th>2</th>\n",
       "      <td>Abdullah_Gul</td>\n",
       "      <td>/Users/david/ColumbiaCS/AA/w4995-project1/data...</td>\n",
       "    </tr>\n",
       "    <tr>\n",
       "      <th>3</th>\n",
       "      <td>Abdullah_Gul</td>\n",
       "      <td>/Users/david/ColumbiaCS/AA/w4995-project1/data...</td>\n",
       "    </tr>\n",
       "    <tr>\n",
       "      <th>4</th>\n",
       "      <td>Abdullah_Gul</td>\n",
       "      <td>/Users/david/ColumbiaCS/AA/w4995-project1/data...</td>\n",
       "    </tr>\n",
       "    <tr>\n",
       "      <th>...</th>\n",
       "      <td>...</td>\n",
       "      <td>...</td>\n",
       "    </tr>\n",
       "    <tr>\n",
       "      <th>5980</th>\n",
       "      <td>Zinedine_Zidane</td>\n",
       "      <td>/Users/david/ColumbiaCS/AA/w4995-project1/data...</td>\n",
       "    </tr>\n",
       "    <tr>\n",
       "      <th>5981</th>\n",
       "      <td>Zinedine_Zidane</td>\n",
       "      <td>/Users/david/ColumbiaCS/AA/w4995-project1/data...</td>\n",
       "    </tr>\n",
       "    <tr>\n",
       "      <th>5982</th>\n",
       "      <td>Zinedine_Zidane</td>\n",
       "      <td>/Users/david/ColumbiaCS/AA/w4995-project1/data...</td>\n",
       "    </tr>\n",
       "    <tr>\n",
       "      <th>5983</th>\n",
       "      <td>Zinedine_Zidane</td>\n",
       "      <td>/Users/david/ColumbiaCS/AA/w4995-project1/data...</td>\n",
       "    </tr>\n",
       "    <tr>\n",
       "      <th>5984</th>\n",
       "      <td>Zinedine_Zidane</td>\n",
       "      <td>/Users/david/ColumbiaCS/AA/w4995-project1/data...</td>\n",
       "    </tr>\n",
       "  </tbody>\n",
       "</table>\n",
       "<p>5985 rows × 2 columns</p>\n",
       "</div>"
      ],
      "text/plain": [
       "                 name                                          file_path\n",
       "0        Abdullah_Gul  /Users/david/ColumbiaCS/AA/w4995-project1/data...\n",
       "1        Abdullah_Gul  /Users/david/ColumbiaCS/AA/w4995-project1/data...\n",
       "2        Abdullah_Gul  /Users/david/ColumbiaCS/AA/w4995-project1/data...\n",
       "3        Abdullah_Gul  /Users/david/ColumbiaCS/AA/w4995-project1/data...\n",
       "4        Abdullah_Gul  /Users/david/ColumbiaCS/AA/w4995-project1/data...\n",
       "...               ...                                                ...\n",
       "5980  Zinedine_Zidane  /Users/david/ColumbiaCS/AA/w4995-project1/data...\n",
       "5981  Zinedine_Zidane  /Users/david/ColumbiaCS/AA/w4995-project1/data...\n",
       "5982  Zinedine_Zidane  /Users/david/ColumbiaCS/AA/w4995-project1/data...\n",
       "5983  Zinedine_Zidane  /Users/david/ColumbiaCS/AA/w4995-project1/data...\n",
       "5984  Zinedine_Zidane  /Users/david/ColumbiaCS/AA/w4995-project1/data...\n",
       "\n",
       "[5985 rows x 2 columns]"
      ]
     },
     "execution_count": 28,
     "metadata": {},
     "output_type": "execute_result"
    }
   ],
   "source": [
    "image_path_df"
   ]
  },
  {
   "cell_type": "code",
   "execution_count": 85,
   "metadata": {
    "collapsed": true
   },
   "outputs": [],
   "source": [
    "def encode_from_filepath(filepath):\n",
    "    image = face_recognition.load_image_file(filepath)\n",
    "    encodings = face_recognition.face_encodings(image)\n",
    "    if (len(encodings) < 1):\n",
    "        return None\n",
    "    else:\n",
    "        return encodings[0]\n",
    "\n",
    "def collect_encode_images(image_path_df):\n",
    "    embedding_df = image_path_df.copy()\n",
    "    embedding_df['embedding'] = embedding_df['file_path'].apply(encode_from_filepath)\n",
    "    embedding_df = embedding_df[embedding_df['embedding'].notnull()]\n",
    "    return embedding_df.reset_index()"
   ]
  },
  {
   "cell_type": "code",
   "execution_count": null,
   "metadata": {},
   "outputs": [],
   "source": [
    "embedding_df = collect_encode_images(image_path_df)"
   ]
  },
  {
   "cell_type": "code",
   "execution_count": null,
   "metadata": {},
   "outputs": [
    {
     "data": {
      "text/plain": [
       "(5965, 4)"
      ]
     },
     "execution_count": 87,
     "metadata": {},
     "output_type": "execute_result"
    }
   ],
   "source": [
    "embedding_df.shape"
   ]
  },
  {
   "cell_type": "code",
   "execution_count": null,
   "metadata": {},
   "outputs": [],
   "source": [
    "embedding_df.to_csv(FACE_DATA_CSV)"
   ]
  },
  {
   "cell_type": "code",
   "execution_count": null,
   "metadata": {},
   "outputs": [
    {
     "name": "stdout",
     "output_type": "stream",
     "text": [
      "0.4681664639667913\n",
      "0.4363866329084555\n",
      "0.44419430000228627\n"
     ]
    }
   ],
   "source": [
    "print(np.linalg.norm(embedding_df['embedding'][0]-embedding_df['embedding'][1]))\n",
    "print(np.linalg.norm(embedding_df['embedding'][0]-embedding_df['embedding'][2]))\n",
    "print(np.linalg.norm(embedding_df['embedding'][0]-embedding_df['embedding'][3]))"
   ]
  },
  {
   "cell_type": "code",
   "execution_count": 93,
   "metadata": {},
   "outputs": [
    {
     "name": "stdout",
     "output_type": "stream",
     "text": [
      "0.8551450599176703\n"
     ]
    }
   ],
   "source": [
    "print(np.linalg.norm(embedding_df['embedding'][0]-embedding_df['embedding'][5960]))"
   ]
  },
  {
   "cell_type": "code",
   "execution_count": null,
   "metadata": {
    "collapsed": true
   },
   "outputs": [],
   "source": []
  }
 ],
 "metadata": {
  "kernelspec": {
   "display_name": "Python 3",
   "language": "python",
   "name": "python3"
  },
  "language_info": {
   "codemirror_mode": {
    "name": "ipython",
    "version": 3
   },
   "file_extension": ".py",
   "mimetype": "text/x-python",
   "name": "python",
   "nbconvert_exporter": "python",
   "pygments_lexer": "ipython3",
   "version": "3.6.3"
  }
 },
 "nbformat": 4,
 "nbformat_minor": 2
}
