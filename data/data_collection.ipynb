{
 "cells": [
  {
   "cell_type": "markdown",
   "metadata": {},
   "source": [
    "# Data Collection"
   ]
  },
  {
   "cell_type": "markdown",
   "metadata": {},
   "source": [
    "### Imports"
   ]
  },
  {
   "cell_type": "code",
   "execution_count": 6,
   "metadata": {},
   "outputs": [],
   "source": [
    "import pandas as pd\n",
    "import yfinance as yf\n",
    "import os"
   ]
  },
  {
   "cell_type": "markdown",
   "metadata": {},
   "source": [
    "### Constants"
   ]
  },
  {
   "cell_type": "code",
   "execution_count": 135,
   "metadata": {},
   "outputs": [],
   "source": [
    "SANDP_500_CSV = os.path.join(os.getcwd(), 'SAndP500.csv')\n",
    "SP_500_DATA_CSV = os.path.join(os.getcwd(), 'SP500_data.csv')"
   ]
  },
  {
   "cell_type": "markdown",
   "metadata": {},
   "source": [
    "### Data Fetching"
   ]
  },
  {
   "cell_type": "code",
   "execution_count": 51,
   "metadata": {
    "collapsed": true
   },
   "outputs": [],
   "source": [
    "df = pd.read_csv(SANDP_500_CSV)"
   ]
  },
  {
   "cell_type": "code",
   "execution_count": 122,
   "metadata": {},
   "outputs": [],
   "source": [
    "def get_sp500_data():\n",
    "    symbol_list = df['Symbol'].to_list()\n",
    "    \n",
    "    data = yf.download(\n",
    "        tickers = symbol_list,\n",
    "#         period = '1y',\n",
    "        start='2018-12-31',\n",
    "        end='2020-01-01',\n",
    "        interval = '1d',\n",
    "        group_by = 'ticker',\n",
    "        auto_adjust = False,\n",
    "        prepost = False,\n",
    "        threads = True,\n",
    "        proxy = None)\n",
    "    \n",
    "    data = data.sort_values(by=['Date'])\n",
    "    first_row = data.iloc[0]\n",
    "    last_row = data.iloc[0]\n",
    "    \n",
    "    valid_symbols = [tup[0] for tup in zip(\n",
    "        df['Symbol'].to_list(),\n",
    "        (data[[(s, 'Open') for s in df['Symbol'].to_list()]].isnull().sum() == 0).tolist())\n",
    "                     if tup[1]]\n",
    "    \n",
    "    return data[valid_symbols]"
   ]
  },
  {
   "cell_type": "code",
   "execution_count": 123,
   "metadata": {
    "scrolled": true
   },
   "outputs": [
    {
     "name": "stdout",
     "output_type": "stream",
     "text": [
      "[*********************100%***********************]  505 of 505 completed\n",
      "\n",
      "29 Failed downloads:\n",
      "- MON: No data found for this date range, symbol may be delisted\n",
      "- ANDV: No data found for this date range, symbol may be delisted\n",
      "- BHGE: No data found, symbol may be delisted\n",
      "- ESRX: No data found for this date range, symbol may be delisted\n",
      "- CSRA: No data found for this date range, symbol may be delisted\n",
      "- CELG: No data found, symbol may be delisted\n",
      "- XL: No data found for this date range, symbol may be delisted\n",
      "- TMK: No data found, symbol may be delisted\n",
      "- ARNC: Data doesn't exist for startDate = 1546243200, endDate = 1577865600\n",
      "- BBT: No data found, symbol may be delisted\n",
      "- DWDP: No data found, symbol may be delisted\n",
      "- KORS: No data found for this date range, symbol may be delisted\n",
      "- GGP: No data found for this date range, symbol may be delisted\n",
      "- HCP: No data found, symbol may be delisted\n",
      "- AET: No data found for this date range, symbol may be delisted\n",
      "- LLL: No data found, symbol may be delisted\n",
      "- WYN: No data found for this date range, symbol may be delisted\n",
      "- BRK.B: No data found, symbol may be delisted\n",
      "- APC: No data found, symbol may be delisted\n",
      "- EVHC: No data found for this date range, symbol may be delisted\n",
      "- TWX: No data found for this date range, symbol may be delisted\n",
      "- SYMC: No data found, symbol may be delisted\n",
      "- RHT: No data found, symbol may be delisted\n",
      "- TSS: No data found, symbol may be delisted\n",
      "- LUK: No data found for this date range, symbol may be delisted\n",
      "- BF.B: No data found for this date range, symbol may be delisted\n",
      "- VIAB: No data found, symbol may be delisted\n",
      "- HRS: No data found, symbol may be delisted\n",
      "- DPS: No data found for this date range, symbol may be delisted\n"
     ]
    }
   ],
   "source": [
    "data = get_sp500_data()"
   ]
  },
  {
   "cell_type": "code",
   "execution_count": 136,
   "metadata": {
    "scrolled": false
   },
   "outputs": [],
   "source": [
    "data.to_csv(SP_500_DATA_CSV)"
   ]
  },
  {
   "cell_type": "code",
   "execution_count": null,
   "metadata": {
    "collapsed": true
   },
   "outputs": [],
   "source": []
  }
 ],
 "metadata": {
  "kernelspec": {
   "display_name": "Python 3",
   "language": "python",
   "name": "python3"
  },
  "language_info": {
   "codemirror_mode": {
    "name": "ipython",
    "version": 3
   },
   "file_extension": ".py",
   "mimetype": "text/x-python",
   "name": "python",
   "nbconvert_exporter": "python",
   "pygments_lexer": "ipython3",
   "version": "3.6.3"
  }
 },
 "nbformat": 4,
 "nbformat_minor": 2
}
