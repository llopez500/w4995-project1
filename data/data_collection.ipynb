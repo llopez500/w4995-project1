{
 "cells": [
  {
   "cell_type": "markdown",
   "metadata": {},
   "source": [
    "# Data Collection"
   ]
  },
  {
   "cell_type": "markdown",
   "metadata": {},
   "source": [
    "### Imports"
   ]
  },
  {
   "cell_type": "code",
   "execution_count": 2,
   "metadata": {
    "collapsed": true
   },
   "outputs": [],
   "source": [
    "import pandas as pd\n",
    "import yfinance as yf\n",
    "import os\n",
    "import numpy as np\n",
    "import pickle"
   ]
  },
  {
   "cell_type": "markdown",
   "metadata": {},
   "source": [
    "### Constants"
   ]
  },
  {
   "cell_type": "code",
   "execution_count": 3,
   "metadata": {},
   "outputs": [],
   "source": [
    "# S&P500 Data\n",
    "SANDP_500_CSV = os.path.join(os.getcwd(), 'SAndP500.csv')\n",
    "SP_500_DATA_CSV = os.path.join(os.getcwd(), 'SP500_data.csv')\n",
    "SP_500_DATA_PKL = os.path.join(os.getcwd(), 'SP500_data.pkl')\n",
    "\n",
    "# Russell 3000 Data\n",
    "RUSSELL_3000_CSV = os.path.join(os.getcwd(), 'russell3000StockTickersList.csv')\n",
    "RUSSELL_3000_DATA_PKL = os.path.join(os.getcwd(), 'Russell3000_data.pkl')"
   ]
  },
  {
   "cell_type": "markdown",
   "metadata": {},
   "source": [
    "### S&P500 Data Fetching"
   ]
  },
  {
   "cell_type": "code",
   "execution_count": 4,
   "metadata": {
    "collapsed": true
   },
   "outputs": [],
   "source": [
    "def get_sp500_data():\n",
    "    df = pd.read_csv(SANDP_500_CSV)\n",
    "    symbol_list = df['Symbol'].to_list()\n",
    "    \n",
    "    data = yf.download(\n",
    "        tickers = symbol_list,\n",
    "#         period = '1y',\n",
    "        start='2018-12-31',\n",
    "        end='2020-01-01',\n",
    "        interval = '1d',\n",
    "        group_by = 'ticker',\n",
    "        auto_adjust = False,\n",
    "        prepost = False,\n",
    "        threads = True,\n",
    "        proxy = None)\n",
    "    \n",
    "    data = data.sort_values(by=['Date'])\n",
    "    first_row = data.iloc[0]\n",
    "    last_row = data.iloc[0]\n",
    "    \n",
    "    valid_symbols = [tup[0] for tup in zip(\n",
    "        df['Symbol'].to_list(),\n",
    "        (data[[(s, 'Open') for s in df['Symbol'].to_list()]].isnull().sum() == 0).tolist())\n",
    "                     if tup[1]]\n",
    "    \n",
    "    return data[valid_symbols]"
   ]
  },
  {
   "cell_type": "code",
   "execution_count": 5,
   "metadata": {
    "scrolled": true
   },
   "outputs": [
    {
     "name": "stdout",
     "output_type": "stream",
     "text": [
      "[*********************100%***********************]  505 of 505 completed\n",
      "\n",
      "29 Failed downloads:\n",
      "- ARNC: Data doesn't exist for startDate = 1546243200, endDate = 1577865600\n",
      "- ESRX: No data found for this date range, symbol may be delisted\n",
      "- APC: No data found, symbol may be delisted\n",
      "- HRS: No data found, symbol may be delisted\n",
      "- TSS: No data found, symbol may be delisted\n",
      "- EVHC: No data found for this date range, symbol may be delisted\n",
      "- MON: No data found for this date range, symbol may be delisted\n",
      "- CSRA: No data found for this date range, symbol may be delisted\n",
      "- KORS: No data found for this date range, symbol may be delisted\n",
      "- SYMC: No data found, symbol may be delisted\n",
      "- DPS: No data found for this date range, symbol may be delisted\n",
      "- GGP: No data found for this date range, symbol may be delisted\n",
      "- BRK.B: No data found, symbol may be delisted\n",
      "- BF.B: No data found for this date range, symbol may be delisted\n",
      "- VIAB: No data found, symbol may be delisted\n",
      "- CELG: No data found, symbol may be delisted\n",
      "- LUK: No data found for this date range, symbol may be delisted\n",
      "- LLL: No data found, symbol may be delisted\n",
      "- ANDV: No data found for this date range, symbol may be delisted\n",
      "- RHT: No data found, symbol may be delisted\n",
      "- HCP: No data found, symbol may be delisted\n",
      "- BBT: No data found, symbol may be delisted\n",
      "- WYN: No data found for this date range, symbol may be delisted\n",
      "- AET: No data found for this date range, symbol may be delisted\n",
      "- BHGE: No data found, symbol may be delisted\n",
      "- DWDP: No data found, symbol may be delisted\n",
      "- XL: No data found for this date range, symbol may be delisted\n",
      "- TWX: No data found for this date range, symbol may be delisted\n",
      "- TMK: No data found, symbol may be delisted\n"
     ]
    }
   ],
   "source": [
    "data = get_sp500_data()"
   ]
  },
  {
   "cell_type": "code",
   "execution_count": 136,
   "metadata": {
    "collapsed": true,
    "scrolled": false
   },
   "outputs": [],
   "source": [
    "data.to_csv(SP_500_DATA_CSV)"
   ]
  },
  {
   "cell_type": "code",
   "execution_count": 19,
   "metadata": {
    "collapsed": true
   },
   "outputs": [],
   "source": [
    "symbols = sorted(list(set(map(lambda tup: tup[0], list(data.columns)))))"
   ]
  },
  {
   "cell_type": "code",
   "execution_count": 17,
   "metadata": {
    "collapsed": true
   },
   "outputs": [],
   "source": [
    "dimensions = sorted(list(set(map(lambda tup: tup[1], list(data.columns)))))"
   ]
  },
  {
   "cell_type": "code",
   "execution_count": 28,
   "metadata": {
    "collapsed": true
   },
   "outputs": [],
   "source": [
    "organized_data = [np.vstack([data[sym][dim].values for dim in dimensions]) for sym in symbols]"
   ]
  },
  {
   "cell_type": "code",
   "execution_count": 34,
   "metadata": {
    "collapsed": true
   },
   "outputs": [],
   "source": [
    "with open(SP_500_DATA_PKL, 'wb') as file:\n",
    "    pickle.dump((symbols, dimensions, organized_data), file)"
   ]
  },
  {
   "cell_type": "code",
   "execution_count": 38,
   "metadata": {
    "collapsed": true
   },
   "outputs": [],
   "source": [
    "# with open(SP_500_DATA_PKL, 'rb') as file:\n",
    "#     print(pickle.load(file))"
   ]
  },
  {
   "cell_type": "markdown",
   "metadata": {
    "collapsed": true
   },
   "source": [
    "### Russell 3000 Index Data Fetching"
   ]
  },
  {
   "cell_type": "code",
   "execution_count": 30,
   "metadata": {},
   "outputs": [],
   "source": [
    "def get_russell_3000_data():\n",
    "    df = pd.read_csv(RUSSELL_3000_CSV, skiprows=3)[['Ticker', 'Company']]\n",
    "    symbol_list = df['Ticker'].to_list()\n",
    "    data = yf.download(\n",
    "        tickers = symbol_list,\n",
    "#         period = '1y',\n",
    "        start='2018-12-31',\n",
    "        end='2020-01-01',\n",
    "        interval = '1d',\n",
    "        group_by = 'ticker',\n",
    "        auto_adjust = False,\n",
    "        prepost = False,\n",
    "        threads = True,\n",
    "        proxy = None)\n",
    "    data = data.sort_values(by=['Date'])\n",
    "    first_row = data.iloc[0]\n",
    "    last_row = data.iloc[0]\n",
    "    \n",
    "    valid_symbols = [tup[0] for tup in zip(\n",
    "        df['Ticker'].to_list(),\n",
    "        (data[[(s, 'Open') for s in df['Ticker'].to_list()]].isnull().sum() == 0).tolist())\n",
    "                     if tup[1]]\n",
    "    \n",
    "    return data[valid_symbols]"
   ]
  },
  {
   "cell_type": "code",
   "execution_count": 31,
   "metadata": {},
   "outputs": [
    {
     "name": "stdout",
     "output_type": "stream",
     "text": [
      "[*********************100%***********************]  2938 of 2938 completed\n",
      "\n",
      "409 Failed downloads:\n",
      "- ESV: No data found, symbol may be delisted\n",
      "- LFGR: No data found for this date range, symbol may be delisted\n",
      "- LEXEA: No data found, symbol may be delisted\n",
      "- UCP: Data doesn't exist for startDate = 1546243200, endDate = 1577865600\n",
      "- ACTA: No data found for this date range, symbol may be delisted\n",
      "- SFR: No data found for this date range, symbol may be delisted\n",
      "- BF.B: No data found for this date range, symbol may be delisted\n",
      "- BBT: No data found, symbol may be delisted\n",
      "- SFS: No data found, symbol may be delisted\n",
      "- CHFN: No data found for this date range, symbol may be delisted\n",
      "- CASC: No data found for this date range, symbol may be delisted\n",
      "- BF.A: No data found, symbol may be delisted\n",
      "- AREX: No data found, symbol may be delisted\n",
      "- PAH: No data found for this date range, symbol may be delisted\n",
      "- NXEO: No data found, symbol may be delisted\n",
      "- GLBL: No data found for this date range, symbol may be delisted\n",
      "- ALDR: No data found, symbol may be delisted\n",
      "- ISRL: No data found, symbol may be delisted\n",
      "- ACHN: No data found, symbol may be delisted\n",
      "- OMNT: No data found, symbol may be delisted\n",
      "- CHSP: No data found, symbol may be delisted\n",
      "- BTX: No data found, symbol may be delisted\n",
      "- PRXL: No data found for this date range, symbol may be delisted\n",
      "- SCLN: No data found for this date range, symbol may be delisted\n",
      "- VIA: No data found, symbol may be delisted\n",
      "- TIME: No data found for this date range, symbol may be delisted\n",
      "- NCIT: No data found for this date range, symbol may be delisted\n",
      "- SSNI: No data found for this date range, symbol may be delisted\n",
      "- ABAX: No data found for this date range, symbol may be delisted\n",
      "- LHO: No data found for this date range, symbol may be delisted\n",
      "- ESRX: No data found for this date range, symbol may be delisted\n",
      "- ULTI: No data found, symbol may be delisted\n",
      "- FCFP: No data found for this date range, symbol may be delisted\n",
      "- ACXM: No data found for this date range, symbol may be delisted\n",
      "- SHOR: No data found for this date range, symbol may be delisted\n",
      "- IPXL: No data found for this date range, symbol may be delisted\n",
      "- DCT: No data found for this date range, symbol may be delisted\n",
      "- HF: No data found, symbol may be delisted\n",
      "- CPN: No data found for this date range, symbol may be delisted\n",
      "- HIVE: No data found, symbol may be delisted\n",
      "- CUNB: No data found for this date range, symbol may be delisted\n",
      "- ENFC: No data found, symbol may be delisted\n",
      "- ONCE: No data found, symbol may be delisted\n",
      "- OKSB: No data found for this date range, symbol may be delisted\n",
      "- NSM: No data found for this date range, symbol may be delisted\n",
      "- MDSO: No data found, symbol may be delisted\n",
      "- EMCI: No data found, symbol may be delisted\n",
      "- QSII: No data found for this date range, symbol may be delisted\n",
      "- ORIT: No data found, symbol may be delisted\n",
      "- EFII: No data found, symbol may be delisted\n",
      "- WMIH: No data found for this date range, symbol may be delisted\n",
      "- BRCD: No data found for this date range, symbol may be delisted\n",
      "- MSFG: No data found for this date range, symbol may be delisted\n",
      "- OMAM: No data found for this date range, symbol may be delisted\n",
      "- BWLD: No data found for this date range, symbol may be delisted\n",
      "- HEI.A: No data found, symbol may be delisted\n",
      "- FINL: No data found for this date range, symbol may be delisted\n",
      "- CSRA: No data found for this date range, symbol may be delisted\n",
      "- ESL: No data found, symbol may be delisted\n",
      "- CORI: No data found for this date range, symbol may be delisted\n",
      "- CBG: No data found for this date range, symbol may be delisted\n",
      "- CALD: No data found for this date range, symbol may be delisted\n",
      "- PJC: No data found, symbol may be delisted\n",
      "- KEG: No data found, symbol may be delisted\n",
      "- CST: No data found for this date range, symbol may be delisted\n",
      "- LGF.B: No data found for this date range, symbol may be delisted\n",
      "- BIOS: No data found, symbol may be delisted\n",
      "- SHLD: No data found for this date range, symbol may be delisted\n",
      "- BRK.B: No data found, symbol may be delisted\n",
      "- SVU: No data found for this date range, symbol may be delisted\n",
      "- LNCE: No data found for this date range, symbol may be delisted\n",
      "- TAHO: No data found, symbol may be delisted\n",
      "- JUNO: No data found for this date range, symbol may be delisted\n",
      "- HCOM: No data found for this date range, symbol may be delisted\n",
      "- DEL: No data found for this date range, symbol may be delisted\n",
      "- SNOW: No data found for this date range, symbol may be delisted\n",
      "- RATE: No data found for this date range, symbol may be delisted\n",
      "- WG: No data found for this date range, symbol may be delisted\n",
      "- EDR: No data found, symbol may be delisted\n",
      "- TWX: No data found for this date range, symbol may be delisted\n",
      "- BKMU: No data found for this date range, symbol may be delisted\n",
      "- AWH: No data found for this date range, symbol may be delisted\n",
      "- WBMD: No data found for this date range, symbol may be delisted\n",
      "- BKFS: No data found for this date range, symbol may be delisted\n",
      "- KTWO: No data found for this date range, symbol may be delisted\n",
      "- SLD: No data found for this date range, symbol may be delisted\n",
      "- CRD.B: No data found, symbol may be delisted\n",
      "- FNGN: No data found for this date range, symbol may be delisted\n",
      "- GPT: No data found for this date range, symbol may be delisted\n",
      "- ALJ: No data found for this date range, symbol may be delisted\n",
      "- ELLI: No data found, symbol may be delisted\n",
      "- ENTL: No data found for this date range, symbol may be delisted\n",
      "- REN: No data found, symbol may be delisted\n",
      "- DFT: No data found for this date range, symbol may be delisted\n",
      "- OZRK: No data found for this date range, symbol may be delisted\n",
      "- FMSA: No data found for this date range, symbol may be delisted\n",
      "- HSNI: No data found for this date range, symbol may be delisted\n",
      "- BUFF: No data found for this date range, symbol may be delisted\n",
      "- FNSR: No data found, symbol may be delisted\n",
      "- FDC: No data found, symbol may be delisted\n",
      "- AKAO: No data found, symbol may be delisted\n",
      "- NVLN: No data found, symbol may be delisted\n",
      "- RICE: No data found for this date range, symbol may be delisted\n",
      "- NRCIA: No data found for this date range, symbol may be delisted\n",
      "- QTM: No data found for this date range, symbol may be delisted\n",
      "- RTEC: No data found, symbol may be delisted\n",
      "- LMIA: No data found for this date range, symbol may be delisted\n",
      "- MSL: No data found, symbol may be delisted\n",
      "- SGY: No data found for this date range, symbol may be delisted\n",
      "- ITG: No data found, symbol may be delisted\n",
      "- TIS: No data found, symbol may be delisted\n",
      "- EGN: No data found for this date range, symbol may be delisted\n",
      "- PCO: No data found for this date range, symbol may be delisted\n",
      "- ASBB: No data found for this date range, symbol may be delisted\n",
      "- AGII: No data found for this date range, symbol may be delisted\n",
      "- PCLN: No data found for this date range, symbol may be delisted\n",
      "- AFAM: No data found for this date range, symbol may be delisted\n",
      "- APC: No data found, symbol may be delisted\n",
      "- SN: No data found, symbol may be delisted\n",
      "- LTXB: No data found, symbol may be delisted\n",
      "- CVG: No data found for this date range, symbol may be delisted\n",
      "- BETR: No data found for this date range, symbol may be delisted\n",
      "- CTWS: No data found, symbol may be delisted\n",
      "- CBM: No data found, symbol may be delisted\n",
      "- TESO: No data found for this date range, symbol may be delisted\n",
      "- KITE: No data found for this date range, symbol may be delisted\n",
      "- SNBC: No data found for this date range, symbol may be delisted\n",
      "- LPNT: No data found for this date range, symbol may be delisted\n",
      "- IXYS: No data found for this date range, symbol may be delisted\n",
      "- VIAB: No data found, symbol may be delisted\n",
      "- PDVW: No data found for this date range, symbol may be delisted\n",
      "- SCMP: No data found for this date range, symbol may be delisted\n",
      "- VSAR: No data found for this date range, symbol may be delisted\n",
      "- BOBE: No data found for this date range, symbol may be delisted\n",
      "- RGC: No data found for this date range, symbol may be delisted\n",
      "- FOGO: No data found for this date range, symbol may be delisted\n",
      "- NYNY: No data found, symbol may be delisted\n",
      "- HRS: No data found, symbol may be delisted\n",
      "- GEF.B: No data found for this date range, symbol may be delisted\n",
      "- PHIIK: No data found for this date range, symbol may be delisted\n",
      "- MB: No data found, symbol may be delisted\n",
      "- ISCA: No data found, symbol may be delisted\n",
      "- EXA: No data found for this date range, symbol may be delisted\n",
      "- GXP: No data found for this date range, symbol may be delisted\n",
      "- VSI: No data found, symbol may be delisted\n",
      "- MORE: No data found for this date range, symbol may be delisted\n",
      "- CUDA: No data found for this date range, symbol may be delisted\n",
      "- BNCL: No data found, symbol may be delisted\n",
      "- ASCMA: No data found, symbol may be delisted\n",
      "- CRAY: No data found, symbol may be delisted\n",
      "- OME: No data found for this date range, symbol may be delisted\n",
      "- ORM: No data found, symbol may be delisted\n",
      "- BABY: No data found, symbol may be delisted\n",
      "- TOWR: No data found, symbol may be delisted\n",
      "- JONE: No data found, symbol may be delisted\n",
      "- CCP: No data found for this date range, symbol may be delisted\n",
      "- TIER: No data found, symbol may be delisted\n",
      "- CYS: No data found for this date range, symbol may be delisted\n",
      "- NCI: No data found, symbol may be delisted\n",
      "- BRSS: No data found, symbol may be delisted\n",
      "- GSOL: No data found for this date range, symbol may be delisted\n",
      "- RSO: No data found for this date range, symbol may be delisted\n",
      "- TRCO: No data found, symbol may be delisted\n",
      "- DEPO: No data found for this date range, symbol may be delisted\n",
      "- COH: Data doesn't exist for startDate = 1546243200, endDate = 1577865600\n",
      "- GST: No data found for this date range, symbol may be delisted\n",
      "- FRAC: No data found, symbol may be delisted\n",
      "- MRT: No data found, symbol may be delisted\n",
      "- WAGE: No data found, symbol may be delisted\n",
      "- BGC: No data found for this date range, symbol may be delisted\n",
      "- GOV: No data found for this date range, symbol may be delisted\n",
      "- UBSH: No data found, symbol may be delisted\n",
      "- BSF: No data found for this date range, symbol may be delisted\n",
      "- ARNC: Data doesn't exist for startDate = 1546243200, endDate = 1577865600\n",
      "- NAVG: No data found, symbol may be delisted\n",
      "- GGP: No data found for this date range, symbol may be delisted\n",
      "- AAC: No data found, symbol may be delisted\n",
      "- WOOF: No data found for this date range, symbol may be delisted\n",
      "- NUTR: No data found for this date range, symbol may be delisted\n",
      "- AHP: No data found for this date range, symbol may be delisted\n",
      "- RXDX: No data found for this date range, symbol may be delisted\n",
      "- BPI: No data found, symbol may be delisted\n",
      "- KMG: No data found for this date range, symbol may be delisted\n",
      "- CUBN: No data found for this date range, symbol may be delisted\n",
      "- CHUBA: No data found for this date range, symbol may be delisted\n",
      "- SONC: No data found for this date range, symbol may be delisted\n",
      "- TRK: No data found, symbol may be delisted\n",
      "- UPL: No data found, symbol may be delisted\n",
      "- HIFR: No data found, symbol may be delisted\n",
      "- SFLY: No data found, symbol may be delisted\n",
      "- SCSS: No data found for this date range, symbol may be delisted\n",
      "- AST: No data found, symbol may be delisted\n",
      "- HCP: No data found, symbol may be delisted\n",
      "- COTV: No data found for this date range, symbol may be delisted\n",
      "- LVLT: No data found for this date range, symbol may be delisted\n",
      "- EVHC: No data found for this date range, symbol may be delisted\n",
      "- BCR: No data found for this date range, symbol may be delisted\n",
      "- Q: No data found for this date range, symbol may be delisted\n",
      "- EDGE: No data found for this date range, symbol may be delisted\n",
      "- QVCA: No data found for this date range, symbol may be delisted\n",
      "- CAVM: No data found for this date range, symbol may be delisted\n",
      "- DATA: No data found, symbol may be delisted\n",
      "- HIIQ: No data found, symbol may be delisted\n",
      "- CVRS: No data found, symbol may be delisted\n",
      "- MDR: No data found, symbol may be delisted\n",
      "- MBTF: No data found, symbol may be delisted\n",
      "- KND: No data found for this date range, symbol may be delisted\n",
      "- CTRL: No data found, symbol may be delisted\n",
      "- CECO: No data found, symbol may be delisted\n",
      "- CBF: No data found for this date range, symbol may be delisted\n",
      "- DYN: No data found for this date range, symbol may be delisted\n",
      "- SGYP: No data found for this date range, symbol may be delisted\n",
      "- ACET: No data found for this date range, symbol may be delisted\n",
      "- DPS: No data found for this date range, symbol may be delisted\n",
      "- ARRY: No data found, symbol may be delisted\n",
      "- QCP: No data found for this date range, symbol may be delisted\n",
      "- MTGE: No data found for this date range, symbol may be delisted\n",
      "- HCN: No data found for this date range, symbol may be delisted\n",
      "- CELG: No data found, symbol may be delisted\n",
      "- CAA: No data found for this date range, symbol may be delisted\n",
      "- PES: No data found, symbol may be delisted\n",
      "- SYMC: No data found, symbol may be delisted\n",
      "- CCN: No data found for this date range, symbol may be delisted\n",
      "- VWR: No data found for this date range, symbol may be delisted\n",
      "- AVHI: No data found for this date range, symbol may be delisted\n",
      "- CHUBK: No data found, symbol may be delisted\n",
      "- EXAC: No data found for this date range, symbol may be delisted\n",
      "- EPE: No data found, symbol may be delisted\n",
      "- PTHN: No data found for this date range, symbol may be delisted\n",
      "- MOG.A: No data found, symbol may be delisted\n",
      "- RSPP: No data found for this date range, symbol may be delisted\n",
      "- HYH: No data found for this date range, symbol may be delisted\n",
      "- LDR: No data found for this date range, symbol may be delisted\n",
      "- FGL: Data doesn't exist for startDate = 1546243200, endDate = 1577865600\n",
      "- GNCMA: No data found for this date range, symbol may be delisted\n",
      "- LOXO: No data found, symbol may be delisted\n",
      "- ALOG: No data found for this date range, symbol may be delisted\n",
      "- MPO: No data found, symbol may be delisted\n",
      "- SIFI: No data found, symbol may be delisted\n",
      "- HNH: No data found for this date range, symbol may be delisted\n",
      "- BKS: No data found, symbol may be delisted\n",
      "- WFM: No data found for this date range, symbol may be delisted\n",
      "- PCMI: No data found, symbol may be delisted\n",
      "- SPA: No data found, symbol may be delisted\n",
      "- LAYN: No data found for this date range, symbol may be delisted\n",
      "- ECR: No data found, symbol may be delisted\n",
      "- HBHC: No data found for this date range, symbol may be delisted\n",
      "- NEFF: No data found for this date range, symbol may be delisted\n",
      "- VSM: No data found, symbol may be delisted\n",
      "- PLPM: No data found for this date range, symbol may be delisted\n",
      "- KORS: No data found for this date range, symbol may be delisted\n",
      "- LMOS: No data found for this date range, symbol may be delisted\n",
      "- BIVV: No data found for this date range, symbol may be delisted\n",
      "- BRS: No data found, symbol may be delisted\n",
      "- HLS: No data found for this date range, symbol may be delisted\n",
      "- PSDO: No data found, symbol may be delisted\n",
      "- PHH: No data found for this date range, symbol may be delisted\n",
      "- TTS: No data found, symbol may be delisted\n",
      "- GHDX: No data found, symbol may be delisted\n",
      "- WGL: No data found for this date range, symbol may be delisted\n",
      "- CEMP: No data found for this date range, symbol may be delisted\n",
      "- PF: No data found for this date range, symbol may be delisted\n",
      "- SNH: No data found, symbol may be delisted\n",
      "- MXWL: No data found, symbol may be delisted\n",
      "- SHLM: No data found for this date range, symbol may be delisted\n",
      "- TYPE: No data found, symbol may be delisted\n",
      "- KERX: No data found for this date range, symbol may be delisted\n",
      "- KATE: No data found for this date range, symbol may be delisted\n",
      "- AF: No data found for this date range, symbol may be delisted\n",
      "- CACQ: No data found for this date range, symbol may be delisted\n",
      "- ROX: No data found, symbol may be delisted\n",
      "- TMK: No data found, symbol may be delisted\n",
      "- LGF.A: No data found, symbol may be delisted\n",
      "- DGAS: No data found for this date range, symbol may be delisted\n",
      "- FCH: No data found for this date range, symbol may be delisted\n",
      "- TRNC: No data found for this date range, symbol may be delisted\n",
      "- AET: No data found for this date range, symbol may be delisted\n",
      "- SWFT: No data found for this date range, symbol may be delisted\n",
      "- MYCC: No data found for this date range, symbol may be delisted\n",
      "- CLNS: No data found for this date range, symbol may be delisted\n",
      "- PGEM: No data found for this date range, symbol may be delisted\n",
      "- FMI: No data found for this date range, symbol may be delisted\n",
      "- PNK: No data found for this date range, symbol may be delisted\n",
      "- GUID: No data found for this date range, symbol may be delisted\n",
      "- KLDX: No data found for this date range, symbol may be delisted\n",
      "- PMC: No data found for this date range, symbol may be delisted\n",
      "- DGI: No data found for this date range, symbol may be delisted\n",
      "- FRP: No data found for this date range, symbol may be delisted\n",
      "- RAI: No data found for this date range, symbol may be delisted\n",
      "- VNTV: No data found for this date range, symbol may be delisted\n",
      "- CLD: No data found, symbol may be delisted\n",
      "- LLL: No data found, symbol may be delisted\n",
      "- WLB: No data found for this date range, symbol may be delisted\n",
      "- SGBK: No data found for this date range, symbol may be delisted\n",
      "- MCRN: No data found, symbol may be delisted\n",
      "- MDCO: No data found, symbol may be delisted\n",
      "- BOFI: No data found for this date range, symbol may be delisted\n",
      "- FTD: No data found for this date range, symbol may be delisted\n",
      "- WFT: No data found, symbol may be delisted\n",
      "- NSR: No data found for this date range, symbol may be delisted\n",
      "- PAY: No data found for this date range, symbol may be delisted\n",
      "- BAS: No data found, symbol may be delisted\n",
      "- USG: No data found, symbol may be delisted\n",
      "- INCR: No data found for this date range, symbol may be delisted\n",
      "- AVXS: No data found for this date range, symbol may be delisted\n",
      "- HK: No data found, symbol may be delisted\n",
      "- DF: No data found, symbol may be delisted\n",
      "- OB: No data found for this date range, symbol may be delisted\n",
      "- OCLR: No data found for this date range, symbol may be delisted\n",
      "- WIN: No data found for this date range, symbol may be delisted\n",
      "- NXTM: No data found, symbol may be delisted\n",
      "- LBIO: No data found for this date range, symbol may be delisted\n",
      "- FRED: No data found, symbol may be delisted\n",
      "- BEL: No data found, symbol may be delisted\n",
      "- PERY: No data found for this date range, symbol may be delisted\n",
      "- LION: No data found, symbol may be delisted\n",
      "- SNHY: No data found, symbol may be delisted\n",
      "- DSW: No data found, symbol may be delisted\n",
      "- ENOC: No data found for this date range, symbol may be delisted\n",
      "- OLBK: No data found, symbol may be delisted\n",
      "- EXXI: No data found for this date range, symbol may be delisted\n",
      "- PKY: No data found for this date range, symbol may be delisted\n",
      "- COBZ: No data found for this date range, symbol may be delisted\n",
      "- VDSI: No data found for this date range, symbol may be delisted\n",
      "- FNFV: No data found for this date range, symbol may be delisted\n",
      "- CJ: No data found, symbol may be delisted\n",
      "- FPO: No data found for this date range, symbol may be delisted\n",
      "- WFBI: No data found for this date range, symbol may be delisted\n",
      "- DNBF: No data found, symbol may be delisted\n",
      "- STRP: No data found for this date range, symbol may be delisted\n",
      "- RPXC: No data found for this date range, symbol may be delisted\n",
      "- BDE: No data found for this date range, symbol may be delisted\n",
      "- ARII: No data found for this date range, symbol may be delisted\n",
      "- OA: No data found for this date range, symbol may be delisted\n",
      "- NYLD: No data found for this date range, symbol may be delisted\n",
      "- MON: No data found for this date range, symbol may be delisted\n",
      "- SRCI: No data found, symbol may be delisted\n",
      "- SONS: No data found for this date range, symbol may be delisted\n",
      "- TRCB: No data found, symbol may be delisted\n",
      "- BID: No data found, symbol may be delisted\n",
      "- ATU: No data found, symbol may be delisted\n",
      "- NRE: No data found, symbol may be delisted\n",
      "- DVMT: No data found for this date range, symbol may be delisted\n",
      "- RDC: No data found, symbol may be delisted\n",
      "- UBNT: No data found, symbol may be delisted\n",
      "- TSO: No data found for this date range, symbol may be delisted\n",
      "- SPLS: No data found for this date range, symbol may be delisted\n",
      "- SPNC: No data found for this date range, symbol may be delisted\n",
      "- LQ: No data found for this date range, symbol may be delisted\n",
      "- LEN.B: No data found for this date range, symbol may be delisted\n",
      "- SEMG: No data found, symbol may be delisted\n",
      "- PETX: No data found, symbol may be delisted\n",
      "- FUEL: No data found for this date range, symbol may be delisted\n",
      "- ILG: No data found for this date range, symbol may be delisted\n",
      "- AMBR: No data found, symbol may be delisted\n",
      "- BWINB: No data found for this date range, symbol may be delisted\n",
      "- HAWK: No data found for this date range, symbol may be delisted\n",
      "- AFSI: No data found for this date range, symbol may be delisted\n",
      "- AMRI: No data found for this date range, symbol may be delisted\n",
      "- SYNT: No data found for this date range, symbol may be delisted\n",
      "- CPLA: No data found for this date range, symbol may be delisted\n",
      "- BBG: No data found for this date range, symbol may be delisted\n",
      "- CIVI: No data found, symbol may be delisted\n",
      "- KCG: No data found for this date range, symbol may be delisted\n",
      "- SNC: No data found for this date range, symbol may be delisted\n",
      "- MSCC: No data found for this date range, symbol may be delisted\n",
      "- SNI: No data found for this date range, symbol may be delisted\n",
      "- RAS: No data found for this date range, symbol may be delisted\n",
      "- RHT: No data found, symbol may be delisted\n",
      "- FCE.A: No data found, symbol may be delisted\n",
      "- LVNTA: No data found for this date range, symbol may be delisted\n",
      "- COGT: No data found for this date range, symbol may be delisted\n",
      "- KLXI: No data found for this date range, symbol may be delisted\n",
      "- NANO: No data found, symbol may be delisted\n",
      "- RSYS: No data found for this date range, symbol may be delisted\n",
      "- UBNK: No data found, symbol may be delisted\n",
      "- GNRT: No data found for this date range, symbol may be delisted\n",
      "- CRR: No data found, symbol may be delisted\n",
      "- CARB: No data found, symbol may be delisted\n",
      "- WMAR: No data found for this date range, symbol may be delisted\n",
      "- INSY: No data found for this date range, symbol may be delisted\n",
      "- LUK: No data found for this date range, symbol may be delisted\n",
      "- PNRA: No data found for this date range, symbol may be delisted\n",
      "- CHFC: No data found, symbol may be delisted\n",
      "- GIMO: No data found for this date range, symbol may be delisted\n",
      "- DFRG: No data found, symbol may be delisted\n",
      "- LABL: No data found, symbol may be delisted\n",
      "- NYLD.A: No data found, symbol may be delisted\n",
      "- HDNG: No data found for this date range, symbol may be delisted\n",
      "- WAIR: No data found, symbol may be delisted\n",
      "- HRG: No data found for this date range, symbol may be delisted\n",
      "- PSTB: No data found for this date range, symbol may be delisted\n",
      "- JW.A: No data found, symbol may be delisted\n",
      "- WR: No data found for this date range, symbol may be delisted\n",
      "- ABCD: No data found for this date range, symbol may be delisted\n",
      "- CBI: No data found for this date range, symbol may be delisted\n",
      "- WCG: No data found, symbol may be delisted\n",
      "- TSS: No data found, symbol may be delisted\n",
      "- CSBK: No data found for this date range, symbol may be delisted\n",
      "- SBCP: No data found for this date range, symbol may be delisted\n",
      "- KS: No data found for this date range, symbol may be delisted\n",
      "- NEWM: No data found, symbol may be delisted\n",
      "- FNBG: No data found for this date range, symbol may be delisted\n",
      "- MULE: No data found for this date range, symbol may be delisted\n",
      "- FFKT: No data found for this date range, symbol may be delisted\n",
      "- NCS: No data found, symbol may be delisted\n",
      "- IPCC: No data found for this date range, symbol may be delisted\n",
      "- BSFT: No data found for this date range, symbol may be delisted\n",
      "- HPT: No data found, symbol may be delisted\n"
     ]
    }
   ],
   "source": [
    "russell_data = get_russell_3000_data()"
   ]
  },
  {
   "cell_type": "code",
   "execution_count": 38,
   "metadata": {
    "collapsed": true
   },
   "outputs": [],
   "source": [
    "symbols = sorted(list(set(map(lambda tup: tup[0], list(russell_data.columns)))))"
   ]
  },
  {
   "cell_type": "code",
   "execution_count": 39,
   "metadata": {
    "collapsed": true
   },
   "outputs": [],
   "source": [
    "dimensions = sorted(list(set(map(lambda tup: tup[1], list(russell_data.columns)))))"
   ]
  },
  {
   "cell_type": "code",
   "execution_count": 40,
   "metadata": {},
   "outputs": [],
   "source": [
    "organized_data = [np.vstack([russell_data[sym][dim].values for dim in dimensions]) for sym in symbols]"
   ]
  },
  {
   "cell_type": "code",
   "execution_count": 41,
   "metadata": {
    "collapsed": true
   },
   "outputs": [],
   "source": [
    "with open(RUSSELL_3000_DATA_PKL, 'wb') as file:\n",
    "    pickle.dump((symbols, dimensions, organized_data), file)"
   ]
  },
  {
   "cell_type": "code",
   "execution_count": null,
   "metadata": {},
   "outputs": [],
   "source": []
  },
  {
   "cell_type": "code",
   "execution_count": 24,
   "metadata": {},
   "outputs": [
    {
     "data": {
      "text/plain": [
       "100"
      ]
     },
     "execution_count": 24,
     "metadata": {},
     "output_type": "execute_result"
    }
   ],
   "source": [
    "len(organized_data)"
   ]
  },
  {
   "cell_type": "code",
   "execution_count": 29,
   "metadata": {},
   "outputs": [
    {
     "data": {
      "text/plain": [
       "2938.0"
      ]
     },
     "execution_count": 29,
     "metadata": {},
     "output_type": "execute_result"
    }
   ],
   "source": [
    "len(russell_data.columns)/6"
   ]
  },
  {
   "cell_type": "code",
   "execution_count": null,
   "metadata": {
    "collapsed": true
   },
   "outputs": [],
   "source": []
  }
 ],
 "metadata": {
  "kernelspec": {
   "display_name": "Python 3",
   "language": "python",
   "name": "python3"
  },
  "language_info": {
   "codemirror_mode": {
    "name": "ipython",
    "version": 3
   },
   "file_extension": ".py",
   "mimetype": "text/x-python",
   "name": "python",
   "nbconvert_exporter": "python",
   "pygments_lexer": "ipython3",
   "version": "3.6.3"
  }
 },
 "nbformat": 4,
 "nbformat_minor": 2
}
