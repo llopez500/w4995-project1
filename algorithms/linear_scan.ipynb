{
 "cells": [
  {
   "cell_type": "code",
   "execution_count": 95,
   "metadata": {},
   "outputs": [],
   "source": [
    "import pandas as pd\n",
    "import os\n",
    "import pickle\n",
    "import numpy as np\n",
    "import matplotlib.pyplot as plt\n",
    "%matplotlib inline\n",
    "from sklearn.decomposition import PCA"
   ]
  },
  {
   "cell_type": "code",
   "execution_count": 26,
   "metadata": {},
   "outputs": [],
   "source": [
    "SP_500_DATA_PKL = os.path.join(os.getcwd(), '../data/SP500_data.pkl')"
   ]
  },
  {
   "cell_type": "code",
   "execution_count": 41,
   "metadata": {
    "collapsed": true
   },
   "outputs": [],
   "source": [
    "# Base class\n",
    "class NearestNeighbor:\n",
    "    def __init__(self, data):\n",
    "        self.data = data\n",
    "        \n",
    "class LinearScanNN(NearestNeighbor):\n",
    "    def __init__(self, data, metric):\n",
    "        self.data = data\n",
    "        self.metric = metric\n",
    "\n",
    "    def find_nn(self, query_point):\n",
    "        closest_point = self.data[0]\n",
    "        closest_distance = self.metric(closest_point, query_point)\n",
    "        for neighbor in self.data:\n",
    "            distance = self.metric(neighbor, query_point)\n",
    "            if distance < closest_distance:\n",
    "                closest_distance = neighbor\n",
    "                closest_distance = distance\n",
    "        return (closest_point, closest_distance)"
   ]
  },
  {
   "cell_type": "code",
   "execution_count": 54,
   "metadata": {},
   "outputs": [],
   "source": [
    "with open(SP_500_DATA_PKL, 'rb') as file:\n",
    "    symbols, dimensions, series = pickle.load(file)"
   ]
  },
  {
   "cell_type": "code",
   "execution_count": 55,
   "metadata": {},
   "outputs": [],
   "source": [
    "def norm(x,y):\n",
    "    return np.linalg.norm(x-y)"
   ]
  },
  {
   "cell_type": "code",
   "execution_count": 59,
   "metadata": {},
   "outputs": [],
   "source": [
    "ls = LinearScanNN(series[:300], norm)"
   ]
  },
  {
   "cell_type": "code",
   "execution_count": 73,
   "metadata": {},
   "outputs": [
    {
     "data": {
      "text/plain": [
       "(array([[6.67192383e+01, 6.49686813e+01, 6.25752487e+01, ...,\n",
       "         8.50236206e+01, 8.46844864e+01, 8.50934448e+01],\n",
       "        [6.74599991e+01, 6.56900024e+01, 6.32700005e+01, ...,\n",
       "         8.54199982e+01, 8.49000015e+01, 8.53099976e+01],\n",
       "        [6.74800034e+01, 6.65699997e+01, 6.57799988e+01, ...,\n",
       "         8.56800003e+01, 8.54000015e+01, 8.53399963e+01],\n",
       "        [6.63399963e+01, 6.53000031e+01, 6.20000000e+01, ...,\n",
       "         8.51100006e+01, 8.46399994e+01, 8.46699982e+01],\n",
       "        [6.63399963e+01, 6.65000000e+01, 6.55299988e+01, ...,\n",
       "         8.56800003e+01, 8.53399963e+01, 8.48399963e+01],\n",
       "        [1.57210000e+06, 2.11330000e+06, 5.38390000e+06, ...,\n",
       "         7.67700000e+05, 7.42800000e+05, 1.17620000e+06]]), 21814744.54836704)"
      ]
     },
     "execution_count": 73,
     "metadata": {},
     "output_type": "execute_result"
    }
   ],
   "source": [
    "ls.find_nn(series[400])"
   ]
  },
  {
   "cell_type": "code",
   "execution_count": 77,
   "metadata": {},
   "outputs": [],
   "source": [
    "pca = PCA(n_components=2)"
   ]
  },
  {
   "cell_type": "code",
   "execution_count": 97,
   "metadata": {},
   "outputs": [],
   "source": [
    "pca.fit(np.vstack(series[:300]))\n",
    "plot_points = pca.transform(np.vstack(series))"
   ]
  },
  {
   "cell_type": "code",
   "execution_count": 100,
   "metadata": {},
   "outputs": [
    {
     "data": {
      "text/plain": [
       "<function matplotlib.pyplot.show>"
      ]
     },
     "execution_count": 100,
     "metadata": {},
     "output_type": "execute_result"
    },
    {
     "data": {
      "image/png": "[encoded data removed]",
      "text/plain": [
       "<matplotlib.figure.Figure at 0x1a26358cf8>"
      ]
     },
     "metadata": {},
     "output_type": "display_data"
    }
   ],
   "source": [
    "plt.scatter(plot_points[:,0], plot_points[:,1], c = ['r']*300 + ['b']*168)\n",
    "plt.show"
   ]
  },
  {
   "cell_type": "code",
   "execution_count": null,
   "metadata": {
    "collapsed": true
   },
   "outputs": [],
   "source": []
  }
 ],
 "metadata": {
  "kernelspec": {
   "display_name": "Python 3",
   "language": "python",
   "name": "python3"
  },
  "language_info": {
   "codemirror_mode": {
    "name": "ipython",
    "version": 3
   },
   "file_extension": ".py",
   "mimetype": "text/x-python",
   "name": "python",
   "nbconvert_exporter": "python",
   "pygments_lexer": "ipython3",
   "version": "3.6.3"
  }
 },
 "nbformat": 4,
 "nbformat_minor": 2
}
