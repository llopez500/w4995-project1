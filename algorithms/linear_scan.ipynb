{
 "cells": [
  {
   "cell_type": "markdown",
   "metadata": {},
   "source": [
    "# LinearScan NN Algorithm"
   ]
  },
  {
   "cell_type": "markdown",
   "metadata": {},
   "source": [
    "## Imports"
   ]
  },
  {
   "cell_type": "code",
   "execution_count": 8,
   "metadata": {},
   "outputs": [],
   "source": [
    "import pandas as pd\n",
    "import os\n",
    "import pickle\n",
    "import numpy as np\n",
    "import matplotlib.pyplot as plt\n",
    "%matplotlib inline\n",
    "from sklearn.decomposition import PCA"
   ]
  },
  {
   "cell_type": "markdown",
   "metadata": {},
   "source": [
    "## Import Base Class"
   ]
  },
  {
   "cell_type": "code",
   "execution_count": 9,
   "metadata": {},
   "outputs": [],
   "source": [
    "%run nearest_neighbor.ipynb"
   ]
  },
  {
   "cell_type": "markdown",
   "metadata": {},
   "source": [
    "## Constants"
   ]
  },
  {
   "cell_type": "markdown",
   "metadata": {},
   "source": [
    "## Implementation"
   ]
  },
  {
   "cell_type": "code",
   "execution_count": null,
   "metadata": {},
   "outputs": [],
   "source": []
  },
  {
   "cell_type": "code",
   "execution_count": 117,
   "metadata": {
    "collapsed": true
   },
   "outputs": [],
   "source": [
    "SP_500_DATA_PKL = os.path.join(os.getcwd(), '../data/SP500_data.pkl')\n",
    "RUSSELL_3000_DATA_PKL = os.path.join(os.getcwd(), '../data/Russell3000_data.pkl')"
   ]
  },
  {
   "cell_type": "code",
   "execution_count": 2,
   "metadata": {},
   "outputs": [],
   "source": [
    "class LinearScanNN(NearestNeighbor):\n",
    "    def __init__(self, data, metric):\n",
    "        self.data = data\n",
    "        self.metric = metric\n",
    "        \n",
    "    def add_to_data(point):\n",
    "        self.data += point\n",
    "\n",
    "    def find_nn(self, query_point):\n",
    "        closest_point = self.data[0]\n",
    "        closest_distance = self.metric(closest_point, query_point)\n",
    "        for neighbor in self.data:\n",
    "            distance = self.metric(neighbor, query_point)\n",
    "            if distance < closest_distance:\n",
    "                closest_distance = neighbor\n",
    "                closest_distance = distance\n",
    "        return (closest_point, closest_distance)"
   ]
  },
  {
   "cell_type": "code",
   "execution_count": 132,
   "metadata": {
    "collapsed": true
   },
   "outputs": [],
   "source": [
    "with open(SP_500_DATA_PKL, 'rb') as file:\n",
    "    symbols, dimensions, series = pickle.load(file)"
   ]
  },
  {
   "cell_type": "code",
   "execution_count": 133,
   "metadata": {
    "collapsed": true
   },
   "outputs": [],
   "source": [
    "def norm(x,y):\n",
    "    return np.linalg.norm(x-y)"
   ]
  },
  {
   "cell_type": "code",
   "execution_count": 134,
   "metadata": {
    "collapsed": true
   },
   "outputs": [],
   "source": [
    "ls = LinearScanNN(series[:300], norm)"
   ]
  },
  {
   "cell_type": "code",
   "execution_count": 135,
   "metadata": {},
   "outputs": [
    {
     "data": {
      "text/plain": [
       "(array([[6.67192383e+01, 6.49686813e+01, 6.25752487e+01, ...,\n",
       "         8.50236206e+01, 8.46844864e+01, 8.50934448e+01],\n",
       "        [6.74599991e+01, 6.56900024e+01, 6.32700005e+01, ...,\n",
       "         8.54199982e+01, 8.49000015e+01, 8.53099976e+01],\n",
       "        [6.74800034e+01, 6.65699997e+01, 6.57799988e+01, ...,\n",
       "         8.56800003e+01, 8.54000015e+01, 8.53399963e+01],\n",
       "        [6.63399963e+01, 6.53000031e+01, 6.20000000e+01, ...,\n",
       "         8.51100006e+01, 8.46399994e+01, 8.46699982e+01],\n",
       "        [6.63399963e+01, 6.65000000e+01, 6.55299988e+01, ...,\n",
       "         8.56800003e+01, 8.53399963e+01, 8.48399963e+01],\n",
       "        [1.57210000e+06, 2.11330000e+06, 5.38390000e+06, ...,\n",
       "         7.67700000e+05, 7.42800000e+05, 1.17620000e+06]]), 21814744.54836704)"
      ]
     },
     "execution_count": 135,
     "metadata": {},
     "output_type": "execute_result"
    }
   ],
   "source": [
    "ls.find_nn(series[400])"
   ]
  },
  {
   "cell_type": "code",
   "execution_count": 138,
   "metadata": {
    "collapsed": true
   },
   "outputs": [],
   "source": [
    "with open(RUSSELL_3000_DATA_PKL, 'rb') as file:\n",
    "    symbols, dimensions, series = pickle.load(file)"
   ]
  }
 ],
 "metadata": {
  "kernelspec": {
   "display_name": "Python 3",
   "language": "python",
   "name": "python3"
  },
  "language_info": {
   "codemirror_mode": {
    "name": "ipython",
    "version": 3
   },
   "file_extension": ".py",
   "mimetype": "text/x-python",
   "name": "python",
   "nbconvert_exporter": "python",
   "pygments_lexer": "ipython3",
   "version": "3.7.7"
  }
 },
 "nbformat": 4,
 "nbformat_minor": 2
}
