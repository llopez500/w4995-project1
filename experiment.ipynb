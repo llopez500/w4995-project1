{
 "cells": [
  {
   "cell_type": "code",
   "execution_count": 42,
   "metadata": {},
   "outputs": [],
   "source": [
    "import pandas as pd\n",
    "import numpy as np\n",
    "import matplotlib.pyplot as plt\n",
    "from scipy.spatial import distance\n",
    "import os, re\n",
    "%matplotlib inline"
   ]
  },
  {
   "cell_type": "code",
   "execution_count": 43,
   "metadata": {},
   "outputs": [],
   "source": [
    "from sklearn.datasets import load_iris, load_digits\n",
    "d1 = pd.DataFrame(load_iris()['data'])\n",
    "d2 = pd.DataFrame(load_digits()['data'])"
   ]
  },
  {
   "cell_type": "code",
   "execution_count": 61,
   "metadata": {
    "code_folding": []
   },
   "outputs": [],
   "source": [
    "###### Classes ######\n",
    "\n",
    "# Base class\n",
    "class NearestNeighbor:\n",
    "    def __init__(self, data):\n",
    "        self.data = data\n",
    "\n",
    "# Random projection to smaller space, then exact algorithm\n",
    "from sklearn.random_projection import GaussianRandomProjection\n",
    "class RandomProjectionNeighbor(NearestNeighbor):\n",
    "    def __init__(self, data, output_dim=1):\n",
    "        self.output_dim = output_dim\n",
    "        self.randproj = GaussianRandomProjection(n_components=output_dim)\n",
    "        self.data = data\n",
    "        self.new_data = self.randproj.fit_transform(data)\n",
    "        \n",
    "    def find_nn(self, q):\n",
    "        new_q = self.randproj.fit_transform(q.reshape(1,-1))\n",
    "        closest_index = distance.cdist(new_q, self.new_data).argmin()\n",
    "        return self.data[closest_index]\n",
    "    \n",
    "# Returns random data point\n",
    "class RandomNeighbor(NearestNeighbor):\n",
    "    def find_nn(self, q):\n",
    "        return self.data[np.random.randint(data.shape[0])]\n",
    "\n",
    "# Returns exact answer (might be slow)\n",
    "class ExactNN(NearestNeighbor):           \n",
    "    def find_nn(self, q):\n",
    "        closest_index = distance.cdist([q], self.data).argmin()\n",
    "        return self.data[closest_index]"
   ]
  },
  {
   "cell_type": "code",
   "execution_count": 70,
   "metadata": {},
   "outputs": [],
   "source": [
    "df = df.sample(frac=1)\n",
    "df = df.apply(lambda x: (x - x.mean()) / (x.std() + 0.00001) )"
   ]
  },
  {
   "cell_type": "code",
   "execution_count": 90,
   "metadata": {},
   "outputs": [
    {
     "data": {
      "image/png": "[encoded data removed]",
      "text/plain": [
       "<Figure size 432x288 with 1 Axes>"
      ]
     },
     "metadata": {
      "needs_background": "light"
     },
     "output_type": "display_data"
    },
    {
     "data": {
      "image/png": "[encoded data removed]",
      "text/plain": [
       "<Figure size 432x288 with 1 Axes>"
      ]
     },
     "metadata": {
      "needs_background": "light"
     },
     "output_type": "display_data"
    },
    {
     "data": {
      "image/png": "[encoded data removed]",
      "text/plain": [
       "<Figure size 432x288 with 1 Axes>"
      ]
     },
     "metadata": {
      "needs_background": "light"
     },
     "output_type": "display_data"
    },
    {
     "data": {
      "image/png": "[encoded data removed]",
      "text/plain": [
       "<Figure size 432x288 with 1 Axes>"
      ]
     },
     "metadata": {
      "needs_background": "light"
     },
     "output_type": "display_data"
    }
   ],
   "source": [
    "###### RUN EXPERIMENT ######\n",
    "\n",
    "dataframe_list = [d1, d2]    \n",
    "\n",
    "for df in dataframe_list:\n",
    "\n",
    "    # Shuffle and standardize data\n",
    "    df = df.sample(frac=1)\n",
    "    df = df.apply(lambda x: (x - x.mean()) / x.std())\n",
    "    df = df.dropna(axis=1)\n",
    "\n",
    "    # Create data/query split - randomly select ~20% of the data for testing \n",
    "    split_point = int(0.8 * len(df))\n",
    "    data = df.iloc[:split_point].values\n",
    "    queries = df.iloc[split_point:].values\n",
    "    \n",
    "    NN = RandomProjectionNeighbor(data, output_dim=2)\n",
    "    exactNN = ExactNN(data)\n",
    "\n",
    "    outputs = []\n",
    "    exacts = []\n",
    "    for q in queries:\n",
    "        p = NN.find_nn(q)\n",
    "        outputs.append(p)\n",
    "        exacts.append(exactNN.find_nn(q))\n",
    "        \n",
    "    ###### Evaluate Outputs ######\n",
    "\n",
    "    dist_outputs = np.linalg.norm(np.array(queries) - np.array(outputs), axis=1)\n",
    "    dist_optimal = np.linalg.norm(np.array(queries) - np.array(exacts), axis=1)\n",
    "    dist_from_mean = np.linalg.norm(np.array(queries)-data.mean(0), axis=1)\n",
    "\n",
    "    # error defined to be (output distance - optimal distance)/(optimal distance)\n",
    "    error = (dist_outputs - dist_optimal)/(dist_optimal)\n",
    "\n",
    "    plt.hist(error, bins=35), plt.show()\n",
    "    plt.scatter(dist_from_mean, error);\n",
    "    plt.xlabel('Distance from data mean'), plt.show();\n",
    "   "
   ]
  }
 ],
 "metadata": {
  "kernelspec": {
   "display_name": "Python 3",
   "language": "python",
   "name": "python3"
  },
  "language_info": {
   "codemirror_mode": {
    "name": "ipython",
    "version": 3
   },
   "file_extension": ".py",
   "mimetype": "text/x-python",
   "name": "python",
   "nbconvert_exporter": "python",
   "pygments_lexer": "ipython3",
   "version": "3.7.7"
  }
 },
 "nbformat": 4,
 "nbformat_minor": 2
}
